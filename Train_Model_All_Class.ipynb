{
 "cells": [
  {
   "cell_type": "code",
   "execution_count": 1,
   "metadata": {
    "id": "eyMYXuq5u_Mz"
   },
   "outputs": [],
   "source": [
    "%matplotlib inline\n",
    "\n",
    "import os\n",
    "import re\n",
    "import pandas as pd\n",
    "import numpy as np\n",
    "import zipfile as zipfile\n",
    "import shutil\n",
    "import random\n",
    "from pathlib import Path\n",
    "\n",
    "from fastai.vision import *\n",
    "from fastai.metrics import error_rate"
   ]
  },
  {
   "cell_type": "code",
   "execution_count": 2,
   "metadata": {
    "colab": {
     "base_uri": "https://localhost:8080/",
     "height": 35
    },
    "id": "7c2QhxPLu_ND",
    "outputId": "b78c43ad-6626-42ee-e5d7-e9f36823a467"
   },
   "outputs": [
    {
     "data": {
      "text/plain": [
       "WindowsPath('C:/Users/4euge/SysLab/data')"
      ]
     },
     "execution_count": 2,
     "metadata": {},
     "output_type": "execute_result"
    }
   ],
   "source": [
    "path = Path(os.getcwd())/\"data\"\n",
    "path"
   ]
  },
  {
   "cell_type": "code",
   "execution_count": 6,
   "metadata": {
    "colab": {
     "base_uri": "https://localhost:8080/",
     "height": 363
    },
    "id": "I08HsuRPu_NI",
    "outputId": "3bbb76c0-d1d7-430c-d167-8fa7428956ff"
   },
   "outputs": [],
   "source": [
    "tfms = get_transforms()\n",
    "data = ImageDataBunch.from_folder(path,test=\"test\",ds_tfms=tfms,bs=16, size=224)"
   ]
  },
  {
   "cell_type": "code",
   "execution_count": 7,
   "metadata": {
    "colab": {
     "base_uri": "https://localhost:8080/",
     "height": 416
    },
    "id": "uh2ekaedu_NK",
    "outputId": "6321bad0-bf8c-4125-c9e7-297a9489e15f"
   },
   "outputs": [
    {
     "name": "stdout",
     "output_type": "stream",
     "text": [
      "ImageDataBunch;\n",
      "\n",
      "Train: LabelList (3078 items)\n",
      "x: ImageList\n",
      "Image (3, 224, 224),Image (3, 224, 224),Image (3, 224, 224),Image (3, 224, 224),Image (3, 224, 224)\n",
      "y: CategoryList\n",
      "backpack,backpack,backpack,backpack,backpack\n",
      "Path: C:\\Users\\4euge\\SysLab\\data;\n",
      "\n",
      "Valid: LabelList (1027 items)\n",
      "x: ImageList\n",
      "Image (3, 224, 224),Image (3, 224, 224),Image (3, 224, 224),Image (3, 224, 224),Image (3, 224, 224)\n",
      "y: CategoryList\n",
      "backpack,backpack,backpack,backpack,backpack\n",
      "Path: C:\\Users\\4euge\\SysLab\\data;\n",
      "\n",
      "Test: LabelList (1032 items)\n",
      "x: ImageList\n",
      "Image (3, 224, 224),Image (3, 224, 224),Image (3, 224, 224),Image (3, 224, 224),Image (3, 224, 224)\n",
      "y: EmptyLabelList\n",
      ",,,,\n",
      "Path: C:\\Users\\4euge\\SysLab\\data\n",
      "['backpack', 'binder', 'book', 'cardboard', 'glass', 'metal', 'paper', 'pen', 'pencil_case', 'plastic', 'shoe', 'trash']\n"
     ]
    }
   ],
   "source": [
    "print(data)\n",
    "print(data.classes)"
   ]
  },
  {
   "cell_type": "code",
   "execution_count": 8,
   "metadata": {
    "colab": {
     "base_uri": "https://localhost:8080/",
     "height": 398
    },
    "id": "kZc500ddu_NM",
    "outputId": "405f6507-4aba-4eff-e3a8-3cd02311dfaf"
   },
   "outputs": [
    {
     "name": "stderr",
     "output_type": "stream",
     "text": [
      "Downloading: \"https://download.pytorch.org/models/resnet50-19c8e357.pth\" to C:\\Users\\4euge/.cache\\torch\\hub\\checkpoints\\resnet50-19c8e357.pth\n"
     ]
    },
    {
     "data": {
      "application/vnd.jupyter.widget-view+json": {
       "model_id": "7898278c856349b8a624932b610b32ea",
       "version_major": 2,
       "version_minor": 0
      },
      "text/plain": [
       "HBox(children=(HTML(value=''), FloatProgress(value=0.0, max=102502400.0), HTML(value='')))"
      ]
     },
     "metadata": {},
     "output_type": "display_data"
    },
    {
     "name": "stdout",
     "output_type": "stream",
     "text": [
      "\n"
     ]
    }
   ],
   "source": [
    "learner = cnn_learner(data,models.resnet50,metrics=error_rate)"
   ]
  },
  {
   "cell_type": "code",
   "execution_count": 9,
   "metadata": {
    "colab": {
     "base_uri": "https://localhost:8080/",
     "height": 545
    },
    "id": "FqpJ-J7Ju_NO",
    "outputId": "8dd0951c-69f8-4919-a695-ebf75db7f300"
   },
   "outputs": [
    {
     "data": {
      "text/html": [
       "\n",
       "    <div>\n",
       "        <style>\n",
       "            /* Turns off some styling */\n",
       "            progress {\n",
       "                /* gets rid of default border in Firefox and Opera. */\n",
       "                border: none;\n",
       "                /* Needs to be in here for Safari polyfill so background images work as expected. */\n",
       "                background-size: auto;\n",
       "            }\n",
       "            .progress-bar-interrupted, .progress-bar-interrupted::-webkit-progress-bar {\n",
       "                background: #F44336;\n",
       "            }\n",
       "        </style>\n",
       "      <progress value='0' class='' max='1' style='width:300px; height:20px; vertical-align: middle;'></progress>\n",
       "      0.00% [0/1 00:00<00:00]\n",
       "    </div>\n",
       "    \n",
       "<table border=\"1\" class=\"dataframe\">\n",
       "  <thead>\n",
       "    <tr style=\"text-align: left;\">\n",
       "      <th>epoch</th>\n",
       "      <th>train_loss</th>\n",
       "      <th>valid_loss</th>\n",
       "      <th>error_rate</th>\n",
       "      <th>time</th>\n",
       "    </tr>\n",
       "  </thead>\n",
       "  <tbody>\n",
       "  </tbody>\n",
       "</table><p>\n",
       "\n",
       "    <div>\n",
       "        <style>\n",
       "            /* Turns off some styling */\n",
       "            progress {\n",
       "                /* gets rid of default border in Firefox and Opera. */\n",
       "                border: none;\n",
       "                /* Needs to be in here for Safari polyfill so background images work as expected. */\n",
       "                background-size: auto;\n",
       "            }\n",
       "            .progress-bar-interrupted, .progress-bar-interrupted::-webkit-progress-bar {\n",
       "                background: #F44336;\n",
       "            }\n",
       "        </style>\n",
       "      <progress value='85' class='' max='192' style='width:300px; height:20px; vertical-align: middle;'></progress>\n",
       "      44.27% [85/192 11:33<14:33 9.0432]\n",
       "    </div>\n",
       "    "
      ],
      "text/plain": [
       "<IPython.core.display.HTML object>"
      ]
     },
     "metadata": {},
     "output_type": "display_data"
    },
    {
     "name": "stdout",
     "output_type": "stream",
     "text": [
      "LR Finder is complete, type {learner_name}.recorder.plot() to see the graph.\n"
     ]
    },
    {
     "data": {
      "image/png": "[encoded data removed]",
      "text/plain": [
       "<Figure size 432x288 with 1 Axes>"
      ]
     },
     "metadata": {
      "needs_background": "light"
     },
     "output_type": "display_data"
    }
   ],
   "source": [
    "learner.lr_find(start_lr=1e-6,end_lr=1e1)\n",
    "learner.recorder.plot()"
   ]
  },
  {
   "cell_type": "code",
   "execution_count": 10,
   "metadata": {
    "colab": {
     "base_uri": "https://localhost:8080/",
     "height": 35
    },
    "id": "pKldHOQlu_NQ",
    "outputId": "2d495600-655a-42e9-b012-2890ded05418",
    "scrolled": true
   },
   "outputs": [
    {
     "name": "stdout",
     "output_type": "stream",
     "text": [
      "0.0037153522909717258\n"
     ]
    }
   ],
   "source": [
    "#find optimum learning rate\n",
    "lr_diff = 15\n",
    "loss_threshold = .05 \n",
    "adjust_value = 1\n",
    "plot = False\n",
    "lrs = learner.recorder.lrs\n",
    "losses = np.array(learner.recorder.losses)\n",
    "assert(lr_diff < len(losses))\n",
    "loss_grad = np.gradient(losses)\n",
    "\n",
    "r_idx = -1\n",
    "l_idx = r_idx - lr_diff\n",
    "while (l_idx >= -len(losses)) and (abs(loss_grad[r_idx] - loss_grad[l_idx]) > loss_threshold):\n",
    "    local_min_lr = lrs[l_idx]\n",
    "    r_idx -= 1\n",
    "    l_idx -= 1\n",
    "\n",
    "lr_to_use = local_min_lr * adjust_value\n",
    "print(lr_to_use)"
   ]
  },
  {
   "cell_type": "code",
   "execution_count": 12,
   "metadata": {
    "colab": {
     "base_uri": "https://localhost:8080/",
     "height": 406
    },
    "id": "bo1wilwQu_NS",
    "outputId": "c68715af-84da-40fd-95c7-c23a46e094ca"
   },
   "outputs": [
    {
     "data": {
      "text/html": [
       "<table border=\"1\" class=\"dataframe\">\n",
       "  <thead>\n",
       "    <tr style=\"text-align: left;\">\n",
       "      <th>epoch</th>\n",
       "      <th>train_loss</th>\n",
       "      <th>valid_loss</th>\n",
       "      <th>error_rate</th>\n",
       "      <th>time</th>\n",
       "    </tr>\n",
       "  </thead>\n",
       "  <tbody>\n",
       "    <tr>\n",
       "      <td>0</td>\n",
       "      <td>0.913212</td>\n",
       "      <td>0.382989</td>\n",
       "      <td>0.126582</td>\n",
       "      <td>38:09</td>\n",
       "    </tr>\n",
       "    <tr>\n",
       "      <td>1</td>\n",
       "      <td>0.754957</td>\n",
       "      <td>0.424802</td>\n",
       "      <td>0.121714</td>\n",
       "      <td>37:25</td>\n",
       "    </tr>\n",
       "    <tr>\n",
       "      <td>2</td>\n",
       "      <td>0.680404</td>\n",
       "      <td>0.557162</td>\n",
       "      <td>0.172347</td>\n",
       "      <td>37:14</td>\n",
       "    </tr>\n",
       "    <tr>\n",
       "      <td>3</td>\n",
       "      <td>0.834508</td>\n",
       "      <td>0.556646</td>\n",
       "      <td>0.167478</td>\n",
       "      <td>26:52</td>\n",
       "    </tr>\n",
       "    <tr>\n",
       "      <td>4</td>\n",
       "      <td>0.867562</td>\n",
       "      <td>0.679151</td>\n",
       "      <td>0.188900</td>\n",
       "      <td>18:13</td>\n",
       "    </tr>\n",
       "    <tr>\n",
       "      <td>5</td>\n",
       "      <td>0.853781</td>\n",
       "      <td>0.697102</td>\n",
       "      <td>0.200584</td>\n",
       "      <td>1:26:51</td>\n",
       "    </tr>\n",
       "    <tr>\n",
       "      <td>6</td>\n",
       "      <td>0.759275</td>\n",
       "      <td>0.941240</td>\n",
       "      <td>0.259007</td>\n",
       "      <td>1:48:29</td>\n",
       "    </tr>\n",
       "    <tr>\n",
       "      <td>7</td>\n",
       "      <td>0.740705</td>\n",
       "      <td>0.602841</td>\n",
       "      <td>0.165531</td>\n",
       "      <td>1:25:58</td>\n",
       "    </tr>\n",
       "    <tr>\n",
       "      <td>8</td>\n",
       "      <td>0.622837</td>\n",
       "      <td>0.455565</td>\n",
       "      <td>0.139241</td>\n",
       "      <td>1:26:55</td>\n",
       "    </tr>\n",
       "    <tr>\n",
       "      <td>9</td>\n",
       "      <td>0.553788</td>\n",
       "      <td>0.495071</td>\n",
       "      <td>0.148978</td>\n",
       "      <td>1:25:49</td>\n",
       "    </tr>\n",
       "    <tr>\n",
       "      <td>10</td>\n",
       "      <td>0.501044</td>\n",
       "      <td>0.463054</td>\n",
       "      <td>0.129503</td>\n",
       "      <td>24:07</td>\n",
       "    </tr>\n",
       "    <tr>\n",
       "      <td>11</td>\n",
       "      <td>0.371417</td>\n",
       "      <td>0.403480</td>\n",
       "      <td>0.109056</td>\n",
       "      <td>19:42</td>\n",
       "    </tr>\n",
       "    <tr>\n",
       "      <td>12</td>\n",
       "      <td>0.323033</td>\n",
       "      <td>0.397743</td>\n",
       "      <td>0.122687</td>\n",
       "      <td>20:29</td>\n",
       "    </tr>\n",
       "    <tr>\n",
       "      <td>13</td>\n",
       "      <td>0.304700</td>\n",
       "      <td>0.351752</td>\n",
       "      <td>0.100292</td>\n",
       "      <td>20:45</td>\n",
       "    </tr>\n",
       "    <tr>\n",
       "      <td>14</td>\n",
       "      <td>0.187205</td>\n",
       "      <td>0.359964</td>\n",
       "      <td>0.104187</td>\n",
       "      <td>21:51</td>\n",
       "    </tr>\n",
       "    <tr>\n",
       "      <td>15</td>\n",
       "      <td>0.204663</td>\n",
       "      <td>0.362811</td>\n",
       "      <td>0.091529</td>\n",
       "      <td>31:49</td>\n",
       "    </tr>\n",
       "    <tr>\n",
       "      <td>16</td>\n",
       "      <td>0.147373</td>\n",
       "      <td>0.355409</td>\n",
       "      <td>0.092502</td>\n",
       "      <td>29:59</td>\n",
       "    </tr>\n",
       "    <tr>\n",
       "      <td>17</td>\n",
       "      <td>0.129150</td>\n",
       "      <td>0.323802</td>\n",
       "      <td>0.085686</td>\n",
       "      <td>28:18</td>\n",
       "    </tr>\n",
       "    <tr>\n",
       "      <td>18</td>\n",
       "      <td>0.133665</td>\n",
       "      <td>0.317304</td>\n",
       "      <td>0.075949</td>\n",
       "      <td>22:02</td>\n",
       "    </tr>\n",
       "    <tr>\n",
       "      <td>19</td>\n",
       "      <td>0.120738</td>\n",
       "      <td>0.322723</td>\n",
       "      <td>0.077897</td>\n",
       "      <td>19:33</td>\n",
       "    </tr>\n",
       "  </tbody>\n",
       "</table>"
      ],
      "text/plain": [
       "<IPython.core.display.HTML object>"
      ]
     },
     "metadata": {},
     "output_type": "display_data"
    }
   ],
   "source": [
    "learner.fit_one_cycle(20,max_lr=lr_to_use)"
   ]
  },
  {
   "cell_type": "code",
   "execution_count": 13,
   "metadata": {
    "id": "o0MgmB4zu_NW"
   },
   "outputs": [],
   "source": [
    "learner.export('models/fastai_all_class.pkl')"
   ]
  },
  {
   "cell_type": "code",
   "execution_count": 14,
   "metadata": {
    "colab": {
     "base_uri": "https://localhost:8080/",
     "height": 311
    },
    "id": "u-_yprflu_Na",
    "outputId": "833d5f23-8fe4-4df7-b7d2-44598871fb3b"
   },
   "outputs": [
    {
     "data": {
      "text/html": [],
      "text/plain": [
       "<IPython.core.display.HTML object>"
      ]
     },
     "metadata": {},
     "output_type": "display_data"
    },
    {
     "data": {
      "image/png": "[encoded data removed]",
      "text/plain": [
       "<Figure size 432x288 with 1 Axes>"
      ]
     },
     "metadata": {
      "needs_background": "light"
     },
     "output_type": "display_data"
    }
   ],
   "source": [
    "#confusion matrix\n",
    "interp = ClassificationInterpretation.from_learner(learner)\n",
    "interp.plot_confusion_matrix()"
   ]
  },
  {
   "cell_type": "code",
   "execution_count": null,
   "metadata": {
    "id": "g3bfajwLu_Nc"
   },
   "outputs": [],
   "source": []
  }
 ],
 "metadata": {
  "accelerator": "GPU",
  "colab": {
   "name": "Train-Model-All-Class.ipynb",
   "provenance": []
  },
  "kernelspec": {
   "display_name": "Python 3",
   "language": "python",
   "name": "python3"
  },
  "language_info": {
   "codemirror_mode": {
    "name": "ipython",
    "version": 3
   },
   "file_extension": ".py",
   "mimetype": "text/x-python",
   "name": "python",
   "nbconvert_exporter": "python",
   "pygments_lexer": "ipython3",
   "version": "3.8.3"
  }
 },
 "nbformat": 4,
 "nbformat_minor": 1
}
